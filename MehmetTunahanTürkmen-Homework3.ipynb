{
 "cells": [
  {
   "cell_type": "code",
   "execution_count": 69,
   "metadata": {},
   "outputs": [
    {
     "name": "stdout",
     "output_type": "stream",
     "text": [
      "yapmak istediğiniz işlemi seçiniz.15\n",
      "Programi tekrar baslatiniz.\n"
     ]
    }
   ],
   "source": [
    "\n",
    "    t = int(input(\"yapmak istediğiniz işlemi seçiniz.\"))\n",
    "    if t == 1:\n",
    "        a = int(input(\"Bir sayi giriniz.\"))\n",
    "        b = int(input(\"Bir sayi giriniz.\"))\n",
    "        csqr = a**2+b**2\n",
    "        c=csqr**(1/2)\n",
    "        print(\"The hypotenus is \",c,)\n",
    "        \n",
    "        \n",
    "    elif t==2:\n",
    "        \n",
    "        s=int(input(\"Bir sayı giriniz\"))\n",
    "        i=1\n",
    "        while i<=s:\n",
    "            print(i) \n",
    "            i+=1\n",
    "    \n",
    "    elif t==3:\n",
    "        x1 = int(input(\"Enter a first number:\"))\n",
    "        x2 = int(input(\"Enter a second number:\"))\n",
    "        x3 = int(input(\"Enter a third number:\"))\n",
    "        x4 = int(input(\"Enter a fourth number:\"))\n",
    "        x5 = int(input(\"Enter a fifth number:\"))\n",
    "        x6 = int(input(\"Enter a sixth number:\"))\n",
    "        ao = (x1+x2+x3+x4+x5+x6)/6\n",
    "        print(\"Aritmetik ortalama: \",ao,)\n",
    "        \n",
    "    else:\n",
    "        print(\"Programi tekrar baslatiniz.\")\n",
    "    "
   ]
  },
  {
   "cell_type": "code",
   "execution_count": null,
   "metadata": {},
   "outputs": [],
   "source": []
  },
  {
   "cell_type": "code",
   "execution_count": null,
   "metadata": {},
   "outputs": [],
   "source": []
  }
 ],
 "metadata": {
  "kernelspec": {
   "display_name": "Python 3",
   "language": "python",
   "name": "python3"
  },
  "language_info": {
   "codemirror_mode": {
    "name": "ipython",
    "version": 3
   },
   "file_extension": ".py",
   "mimetype": "text/x-python",
   "name": "python",
   "nbconvert_exporter": "python",
   "pygments_lexer": "ipython3",
   "version": "3.7.3"
  }
 },
 "nbformat": 4,
 "nbformat_minor": 2
}
