{
 "cells": [
  {
   "cell_type": "code",
   "execution_count": null,
   "metadata": {},
   "outputs": [],
   "source": [
    "a = int(input(\"Enter the a: \"))\n",
    "b = int(input(\"Enter the b: \"))\n",
    "c = int(input(\"Enter the c: \"))\n",
    "disc = (b**2)-4*a*c\n",
    "sqrt_disc = disc**(1/2)\n",
    "x1 = (-b+sqrt_disc)/(2*a)\n",
    "x2 = (-b-sqrt_disc)/(2*a)\n",
    "print(\"The discriminant is:\", disc,) \n",
    "print(\"The value of x1:\",x1,)\n",
    "print(\"The value of x2:\",x2,)"
   ]
  }
 ],
 "metadata": {
  "kernelspec": {
   "display_name": "Python 3",
   "language": "python",
   "name": "python3"
  },
  "language_info": {
   "codemirror_mode": {
    "name": "ipython",
    "version": 3
   },
   "file_extension": ".py",
   "mimetype": "text/x-python",
   "name": "python",
   "nbconvert_exporter": "python",
   "pygments_lexer": "ipython3",
   "version": "3.6.7"
  }
 },
 "nbformat": 4,
 "nbformat_minor": 2
}
